{
 "cells": [
  {
   "cell_type": "code",
   "execution_count": 3,
   "metadata": {},
   "outputs": [],
   "source": [
    "import pandas as pd"
   ]
  },
  {
   "cell_type": "code",
   "execution_count": 4,
   "metadata": {},
   "outputs": [
    {
     "data": {
      "text/html": [
       "<div>\n",
       "<style scoped>\n",
       "    .dataframe tbody tr th:only-of-type {\n",
       "        vertical-align: middle;\n",
       "    }\n",
       "\n",
       "    .dataframe tbody tr th {\n",
       "        vertical-align: top;\n",
       "    }\n",
       "\n",
       "    .dataframe thead th {\n",
       "        text-align: right;\n",
       "    }\n",
       "</style>\n",
       "<table border=\"1\" class=\"dataframe\">\n",
       "  <thead>\n",
       "    <tr style=\"text-align: right;\">\n",
       "      <th></th>\n",
       "      <th>customer</th>\n",
       "      <th>product</th>\n",
       "      <th>basket</th>\n",
       "    </tr>\n",
       "  </thead>\n",
       "  <tbody>\n",
       "    <tr>\n",
       "      <th>0</th>\n",
       "      <td>0</td>\n",
       "      <td>51</td>\n",
       "      <td>00000000</td>\n",
       "    </tr>\n",
       "    <tr>\n",
       "      <th>1</th>\n",
       "      <td>0</td>\n",
       "      <td>113</td>\n",
       "      <td>00000000</td>\n",
       "    </tr>\n",
       "    <tr>\n",
       "      <th>2</th>\n",
       "      <td>0</td>\n",
       "      <td>154</td>\n",
       "      <td>00000000</td>\n",
       "    </tr>\n",
       "    <tr>\n",
       "      <th>3</th>\n",
       "      <td>0</td>\n",
       "      <td>165</td>\n",
       "      <td>00000000</td>\n",
       "    </tr>\n",
       "    <tr>\n",
       "      <th>4</th>\n",
       "      <td>0</td>\n",
       "      <td>185</td>\n",
       "      <td>00000000</td>\n",
       "    </tr>\n",
       "    <tr>\n",
       "      <th>...</th>\n",
       "      <td>...</td>\n",
       "      <td>...</td>\n",
       "      <td>...</td>\n",
       "    </tr>\n",
       "    <tr>\n",
       "      <th>6172896</th>\n",
       "      <td>4998</td>\n",
       "      <td>285</td>\n",
       "      <td>199004998</td>\n",
       "    </tr>\n",
       "    <tr>\n",
       "      <th>6172897</th>\n",
       "      <td>4999</td>\n",
       "      <td>12</td>\n",
       "      <td>199004999</td>\n",
       "    </tr>\n",
       "    <tr>\n",
       "      <th>6172898</th>\n",
       "      <td>4999</td>\n",
       "      <td>52</td>\n",
       "      <td>199004999</td>\n",
       "    </tr>\n",
       "    <tr>\n",
       "      <th>6172899</th>\n",
       "      <td>4999</td>\n",
       "      <td>150</td>\n",
       "      <td>199004999</td>\n",
       "    </tr>\n",
       "    <tr>\n",
       "      <th>6172900</th>\n",
       "      <td>4999</td>\n",
       "      <td>178</td>\n",
       "      <td>199004999</td>\n",
       "    </tr>\n",
       "  </tbody>\n",
       "</table>\n",
       "<p>6172901 rows × 3 columns</p>\n",
       "</div>"
      ],
      "text/plain": [
       "         customer  product     basket\n",
       "0               0       51   00000000\n",
       "1               0      113   00000000\n",
       "2               0      154   00000000\n",
       "3               0      165   00000000\n",
       "4               0      185   00000000\n",
       "...           ...      ...        ...\n",
       "6172896      4998      285  199004998\n",
       "6172897      4999       12  199004999\n",
       "6172898      4999       52  199004999\n",
       "6172899      4999      150  199004999\n",
       "6172900      4999      178  199004999\n",
       "\n",
       "[6172901 rows x 3 columns]"
      ]
     },
     "execution_count": 4,
     "metadata": {},
     "output_type": "execute_result"
    }
   ],
   "source": [
    "pd.read_parquet('files/market-baskets.parquet')"
   ]
  },
  {
   "cell_type": "code",
   "execution_count": null,
   "metadata": {},
   "outputs": [],
   "source": []
  }
 ],
 "metadata": {
  "interpreter": {
   "hash": "aee8b7b246df8f9039afb4144a1f6fd8d2ca17a180786b69acc140d282b71a49"
  },
  "kernelspec": {
   "display_name": "Python 3.9.0 64-bit",
   "name": "python3"
  },
  "language_info": {
   "codemirror_mode": {
    "name": "ipython",
    "version": 3
   },
   "file_extension": ".py",
   "mimetype": "text/x-python",
   "name": "python",
   "nbconvert_exporter": "python",
   "pygments_lexer": "ipython3",
   "version": "3.9.0"
  },
  "orig_nbformat": 4
 },
 "nbformat": 4,
 "nbformat_minor": 2
}
